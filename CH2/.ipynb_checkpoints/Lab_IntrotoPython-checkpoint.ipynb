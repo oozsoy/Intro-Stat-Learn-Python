{
 "cells": [
  {
   "cell_type": "code",
   "execution_count": 1,
   "id": "0f87b8cf",
   "metadata": {},
   "outputs": [],
   "source": [
    "import numpy as np"
   ]
  },
  {
   "cell_type": "code",
   "execution_count": null,
   "id": "eaa29ae9",
   "metadata": {},
   "outputs": [],
   "source": [
    "# We will only have a look at some sub-set of important commands"
   ]
  },
  {
   "cell_type": "code",
   "execution_count": 2,
   "id": "0f28dc73",
   "metadata": {},
   "outputs": [],
   "source": [
    "# To get info about the function that generates a scalar/vector/tensor of normal variable(s) uncomment below\n",
    "#np.random.normal? "
   ]
  },
  {
   "cell_type": "code",
   "execution_count": 3,
   "id": "6604a0f7",
   "metadata": {},
   "outputs": [
    {
     "data": {
      "text/plain": [
       "0.5312741426434097"
      ]
     },
     "execution_count": 3,
     "metadata": {},
     "output_type": "execute_result"
    }
   ],
   "source": [
    "np.random.normal() # random number"
   ]
  },
  {
   "cell_type": "code",
   "execution_count": 4,
   "id": "11a448f9",
   "metadata": {},
   "outputs": [],
   "source": [
    "x = np.random.normal(loc = 0.0, scale = 1.0, size = 50)"
   ]
  },
  {
   "cell_type": "code",
   "execution_count": 5,
   "id": "5be37903",
   "metadata": {},
   "outputs": [
    {
     "data": {
      "text/plain": [
       "array([-1.25683316,  0.21128761,  0.46473971,  0.16356989, -0.40857244,\n",
       "        0.59508848,  0.8208569 ,  0.33647234,  0.91176027,  0.79768467,\n",
       "       -2.12521058, -1.21904316, -1.3872343 , -0.74714889, -1.01140547,\n",
       "        0.20940384, -0.6481013 , -0.87123359,  0.66511579, -0.69174203,\n",
       "        0.98438094,  0.10297527,  1.48217005,  1.12523426, -1.12083002,\n",
       "        0.86189919,  2.17549056, -0.99034362, -2.01982034,  0.46593708,\n",
       "       -0.27239481, -0.17621422, -1.00867101, -0.03654207,  0.1834592 ,\n",
       "        0.35045665,  1.87282664,  0.65802309,  0.74112487, -1.46113433,\n",
       "        0.03417664, -0.58817137,  0.31654942, -1.50982658, -0.64428284,\n",
       "       -0.10913206, -1.16600022, -0.85913461, -0.40785102,  1.2471554 ])"
      ]
     },
     "execution_count": 5,
     "metadata": {},
     "output_type": "execute_result"
    }
   ],
   "source": [
    "x"
   ]
  },
  {
   "cell_type": "code",
   "execution_count": 6,
   "id": "7b184b67",
   "metadata": {},
   "outputs": [],
   "source": [
    "y = x + np.random.normal(loc = 50, scale = 1, size = 50)"
   ]
  },
  {
   "cell_type": "code",
   "execution_count": 7,
   "id": "6c8a09b6",
   "metadata": {},
   "outputs": [
    {
     "data": {
      "text/plain": [
       "array([[1.       , 0.7227451],\n",
       "       [0.7227451, 1.       ]])"
      ]
     },
     "execution_count": 7,
     "metadata": {},
     "output_type": "execute_result"
    }
   ],
   "source": [
    "np.corrcoef(x,y) # correlation matrix between x and y "
   ]
  },
  {
   "cell_type": "code",
   "execution_count": null,
   "id": "9daa38f9",
   "metadata": {},
   "outputs": [],
   "source": [
    "# Each time you run to generate random number(s), it will be different.\n",
    "# In order to ensure our code to provide the exact same result, we can set a random seed\n",
    "# using np.random.default_rng()"
   ]
  },
  {
   "cell_type": "code",
   "execution_count": 8,
   "id": "a63621c3",
   "metadata": {},
   "outputs": [
    {
     "name": "stdout",
     "output_type": "stream",
     "text": [
      "[ 0.30471708 -1.03998411  0.7504512 ]\n",
      "[ 0.30471708 -1.03998411  0.7504512 ]\n"
     ]
    }
   ],
   "source": [
    "rng = np.random.default_rng(42)\n",
    "print(rng.normal(scale = 1, size = 3))\n",
    "rng2 = np.random.default_rng(42)\n",
    "print(rng2.normal(scale = 1, size = 3))"
   ]
  },
  {
   "cell_type": "code",
   "execution_count": 14,
   "id": "6517a688",
   "metadata": {},
   "outputs": [
    {
     "data": {
      "text/plain": [
       "(0.20293058652154677, 0.20293058652154677)"
      ]
     },
     "execution_count": 14,
     "metadata": {},
     "output_type": "execute_result"
    }
   ],
   "source": [
    "y = rng.standard_normal(10)\n",
    "\n",
    "np.mean(y), y.mean()\n"
   ]
  },
  {
   "cell_type": "code",
   "execution_count": 15,
   "id": "8a31203a",
   "metadata": {},
   "outputs": [
    {
     "data": {
      "text/plain": [
       "(0.5706611495841836, 0.5706611495841836, 0.5706611495841836)"
      ]
     },
     "execution_count": 15,
     "metadata": {},
     "output_type": "execute_result"
    }
   ],
   "source": [
    "np.var(y), y.var(), np.mean((y-y.mean())**2)"
   ]
  },
  {
   "cell_type": "code",
   "execution_count": 16,
   "id": "4f1f2254",
   "metadata": {},
   "outputs": [
    {
     "data": {
      "text/plain": [
       "(0.7554211736403631, 0.7554211736403631)"
      ]
     },
     "execution_count": 16,
     "metadata": {},
     "output_type": "execute_result"
    }
   ],
   "source": [
    "np.sqrt(y.var()), y.std()"
   ]
  },
  {
   "cell_type": "code",
   "execution_count": 17,
   "id": "513c85c6",
   "metadata": {},
   "outputs": [
    {
     "data": {
      "text/plain": [
       "array([[-0.81377273,  0.61597942,  1.12897229],\n",
       "       [-0.11394746, -0.84015648, -0.82448122],\n",
       "       [ 0.65059279,  0.74325417,  0.54315427]])"
      ]
     },
     "execution_count": 17,
     "metadata": {},
     "output_type": "execute_result"
    }
   ],
   "source": [
    "# these built in functions of np can be also applied to the rows and columns of matrices\n",
    "\n",
    "X = rng.standard_normal((3,3))\n",
    "X"
   ]
  },
  {
   "cell_type": "code",
   "execution_count": 18,
   "id": "13afad86",
   "metadata": {},
   "outputs": [
    {
     "data": {
      "text/plain": [
       "(array([-0.0923758 ,  0.17302571,  0.28254845]),\n",
       " array([-0.0923758 ,  0.17302571,  0.28254845]))"
      ]
     },
     "execution_count": 18,
     "metadata": {},
     "output_type": "execute_result"
    }
   ],
   "source": [
    "X.mean(axis = 0), X.mean(0) # mean of the rows "
   ]
  },
  {
   "cell_type": "code",
   "execution_count": 19,
   "id": "3e2bc30a",
   "metadata": {},
   "outputs": [
    {
     "data": {
      "text/plain": [
       "(array([ 0.310393  , -0.59286172,  0.64566708]),\n",
       " array([ 0.310393  , -0.59286172,  0.64566708]))"
      ]
     },
     "execution_count": 19,
     "metadata": {},
     "output_type": "execute_result"
    }
   ],
   "source": [
    "X.mean(axis = 1), X.mean(1) # mean of the columns "
   ]
  },
  {
   "cell_type": "code",
   "execution_count": 20,
   "id": "47eb9f99",
   "metadata": {},
   "outputs": [
    {
     "data": {
      "text/plain": [
       "array([0, 2, 4, 6, 8])"
      ]
     },
     "execution_count": 20,
     "metadata": {},
     "output_type": "execute_result"
    }
   ],
   "source": [
    "# Sequences and lists \n",
    "\n",
    "seq = np.arange(0,10,2) # last argument sets the steps, default is 1# \n",
    "seq"
   ]
  },
  {
   "cell_type": "code",
   "execution_count": 22,
   "id": "367de19b",
   "metadata": {},
   "outputs": [
    {
     "data": {
      "text/plain": [
       "array([[ 0,  1,  2,  3],\n",
       "       [ 4,  5,  6,  7],\n",
       "       [ 8,  9, 10, 11],\n",
       "       [12, 13, 14, 15]])"
      ]
     },
     "execution_count": 22,
     "metadata": {},
     "output_type": "execute_result"
    }
   ],
   "source": [
    "# Indexing \n",
    "\n",
    "A = np.array(np.arange(16).reshape(4,4))\n",
    "A"
   ]
  },
  {
   "cell_type": "code",
   "execution_count": 23,
   "id": "0d19c56b",
   "metadata": {},
   "outputs": [
    {
     "data": {
      "text/plain": [
       "array([[ 0,  1,  2,  3],\n",
       "       [ 8,  9, 10, 11]])"
      ]
     },
     "execution_count": 23,
     "metadata": {},
     "output_type": "execute_result"
    }
   ],
   "source": [
    "# slicing multiple rows or columns \n",
    "\n",
    "A[[0,2]]"
   ]
  },
  {
   "cell_type": "code",
   "execution_count": 24,
   "id": "940453a1",
   "metadata": {},
   "outputs": [
    {
     "data": {
      "text/plain": [
       "array([[ 0,  2],\n",
       "       [ 4,  6],\n",
       "       [ 8, 10],\n",
       "       [12, 14]])"
      ]
     },
     "execution_count": 24,
     "metadata": {},
     "output_type": "execute_result"
    }
   ],
   "source": [
    "A[:,[0,2]]"
   ]
  },
  {
   "cell_type": "code",
   "execution_count": 25,
   "id": "308796f5",
   "metadata": {},
   "outputs": [
    {
     "data": {
      "text/plain": [
       "array([False, False, False, False])"
      ]
     },
     "execution_count": 25,
     "metadata": {},
     "output_type": "execute_result"
    }
   ],
   "source": [
    "# Boolean Indexing\n",
    "\n",
    "keep_rows = np.zeros(A.shape[0],bool)\n",
    "keep_rows"
   ]
  },
  {
   "cell_type": "code",
   "execution_count": 26,
   "id": "f3feab5c",
   "metadata": {},
   "outputs": [
    {
     "data": {
      "text/plain": [
       "array([False,  True, False,  True])"
      ]
     },
     "execution_count": 26,
     "metadata": {},
     "output_type": "execute_result"
    }
   ],
   "source": [
    "keep_rows[[1,3]] = True\n",
    "keep_rows"
   ]
  },
  {
   "cell_type": "code",
   "execution_count": 27,
   "id": "38f5de73",
   "metadata": {},
   "outputs": [
    {
     "data": {
      "text/plain": [
       "True"
      ]
     },
     "execution_count": 27,
     "metadata": {},
     "output_type": "execute_result"
    }
   ],
   "source": [
    "np.all(keep_rows == np.array([0,1,0,1]))"
   ]
  },
  {
   "cell_type": "code",
   "execution_count": 29,
   "id": "99050f5d",
   "metadata": {},
   "outputs": [
    {
     "data": {
      "text/plain": [
       "array([[0, 1, 2, 3],\n",
       "       [4, 5, 6, 7],\n",
       "       [0, 1, 2, 3],\n",
       "       [4, 5, 6, 7]])"
      ]
     },
     "execution_count": 29,
     "metadata": {},
     "output_type": "execute_result"
    }
   ],
   "source": [
    "A[np.array([0,1,0,1])] # Slicing of the arrays above is different "
   ]
  },
  {
   "cell_type": "code",
   "execution_count": 30,
   "id": "d14fbdc0",
   "metadata": {},
   "outputs": [
    {
     "data": {
      "text/plain": [
       "array([[ 4,  5,  6,  7],\n",
       "       [12, 13, 14, 15]])"
      ]
     },
     "execution_count": 30,
     "metadata": {},
     "output_type": "execute_result"
    }
   ],
   "source": [
    "A[keep_rows]"
   ]
  },
  {
   "cell_type": "code",
   "execution_count": null,
   "id": "f47267ad",
   "metadata": {},
   "outputs": [],
   "source": []
  }
 ],
 "metadata": {
  "kernelspec": {
   "display_name": "Python 3 (ipykernel)",
   "language": "python",
   "name": "python3"
  },
  "language_info": {
   "codemirror_mode": {
    "name": "ipython",
    "version": 3
   },
   "file_extension": ".py",
   "mimetype": "text/x-python",
   "name": "python",
   "nbconvert_exporter": "python",
   "pygments_lexer": "ipython3",
   "version": "3.9.18"
  }
 },
 "nbformat": 4,
 "nbformat_minor": 5
}
