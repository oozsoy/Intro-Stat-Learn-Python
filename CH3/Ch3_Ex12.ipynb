{
 "cells": [
  {
   "cell_type": "code",
   "execution_count": 9,
   "metadata": {},
   "outputs": [],
   "source": [
    "import numpy as np\n",
    "import seaborn as sns\n",
    "import matplotlib.pyplot as plt\n",
    "\n",
    "import statsmodels.api as sm\n",
    "\n",
    "#For inline plotting \n",
    "%matplotlib inline                 \n",
    "%config InlineBackend.figure_format = 'svg'\n",
    "\n",
    "\n",
    "sns.set(style=\"white\") # Plot parameters defined globally\n",
    "plt.style.use(\"seaborn-v0_8-white\")"
   ]
  },
  {
   "cell_type": "markdown",
   "metadata": {},
   "source": [
    "## 12) Simple linear regression without an intercept\n",
    "\n",
    "### a) There are two cases where the coefficient estimates (for a LR without an intercept) are the same. Looking at the coefficient estimates \n",
    "\n",
    "### $$ \\hat{\\beta}_x = \\frac{\\sum x_i y_i}{\\sum x_i^2},\\quad \\hat{\\beta}_y = \\frac{\\sum x_i y_i}{\\sum y_i^2}$$\n",
    "\n",
    "### When the sum squared values of x and y are equal $ \\sum x_i^2 = \\sum y_i^2$. This can be realized by of course when $x_i = y_i$ for each $i$ (trivial) or have them suffled in a way to satisfy $ \\sum x_i^2 = \\sum y_i^2$ in a non-trivial way. Note that for the former the true relationship is linear without an error such that least square fit will have a unit $R^2$ score: \n",
    "\n",
    "### $$ R^2  = \\frac{(\\sum x_i y_i)^2}{\\sum x_i^2 \\sum y_i^2}\\quad \\xrightarrow{x_i = y_i}\\quad 1$$\n",
    "\n",
    "### We can focus on the non-trivial case on part c) for which we will have $R^2 < 1$."
   ]
  },
  {
   "cell_type": "markdown",
   "metadata": {},
   "source": [
    "### b) "
   ]
  },
  {
   "cell_type": "code",
   "execution_count": 10,
   "metadata": {},
   "outputs": [],
   "source": [
    "np.random.seed(1)\n",
    "\n",
    "x = np.random.randint(100, size = 100)\n",
    "\n",
    "y = x + np.random.normal(size = 100) # due to random noise y is not equal to x in the sample \n",
    "\n",
    "slope_yx = sm.OLS(y,x,hasconst=False).fit().params[0], \n",
    "slope_xy = sm.OLS(x,y,hasconst=False).fit().params[0]"
   ]
  },
  {
   "cell_type": "code",
   "execution_count": 11,
   "metadata": {},
   "outputs": [
    {
     "data": {
      "text/plain": [
       "((0.9990208271060206,), 1.0006651728976468)"
      ]
     },
     "execution_count": 11,
     "metadata": {},
     "output_type": "execute_result"
    }
   ],
   "source": [
    "slope_yx, slope_xy"
   ]
  },
  {
   "cell_type": "markdown",
   "metadata": {},
   "source": [
    "### c) Generating the target from the x values above, by using random permutations of x "
   ]
  },
  {
   "cell_type": "code",
   "execution_count": 12,
   "metadata": {},
   "outputs": [],
   "source": [
    "yalt = np.random.permutation(x)\n",
    "\n",
    "slope_yxalt = sm.OLS(yalt,x,hasconst=False).fit().params[0], \n",
    "slope_xyalt = sm.OLS(x,yalt,hasconst=False).fit().params[0]"
   ]
  },
  {
   "cell_type": "code",
   "execution_count": 13,
   "metadata": {},
   "outputs": [
    {
     "data": {
      "text/plain": [
       "((0.7194841103177934,), 0.7194841103177934)"
      ]
     },
     "execution_count": 13,
     "metadata": {},
     "output_type": "execute_result"
    }
   ],
   "source": [
    "slope_yxalt, slope_xyalt"
   ]
  }
 ],
 "metadata": {
  "kernelspec": {
   "display_name": "base",
   "language": "python",
   "name": "python3"
  },
  "language_info": {
   "codemirror_mode": {
    "name": "ipython",
    "version": 3
   },
   "file_extension": ".py",
   "mimetype": "text/x-python",
   "name": "python",
   "nbconvert_exporter": "python",
   "pygments_lexer": "ipython3",
   "version": "3.10.13"
  }
 },
 "nbformat": 4,
 "nbformat_minor": 2
}
